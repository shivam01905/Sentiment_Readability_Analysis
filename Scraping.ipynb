{
 "cells": [
  {
   "cell_type": "code",
   "execution_count": null,
   "id": "a6ae20c8",
   "metadata": {},
   "outputs": [],
   "source": [
    "import pandas as pd\n",
    "import requests\n",
    "from bs4 import BeautifulSoup\n",
    "\n",
    "# Load the input.xlsx file\n",
    "df = pd.read_excel('input.xlsx')\n",
    "\n",
    "# Iterate over each row in the dataframe\n",
    "for index, row in df.iterrows():\n",
    "    \n",
    "    # Get the URL and URL_ID from the current row\n",
    "    url = row['URL']\n",
    "    url_id = row['URL_ID']\n",
    "    \n",
    "    # Make a request to the URL and get the HTML content\n",
    "    response = requests.get(url)\n",
    "    soup = BeautifulSoup(response.content, 'html.parser')\n",
    "    \n",
    "    # Extract the article title and text\n",
    "    article_title = soup.find('h1').text.strip() if soup.find('h1') is not None else \"\"\n",
    "    article_text = '\\n'.join([p.text.strip() for p in soup.find_all('p')]) if soup.find_all('p') else \"\"\n",
    "    \n",
    "    # Save the extracted article text in a text file with URL_ID as its name\n",
    "    with open(f'{url_id}.txt', 'w', encoding='utf-8') as file:\n",
    "        file.write(article_title)\n",
    "        file.write('\\n\\n')\n",
    "        file.write(article_text)\n",
    "        \n",
    "        print(f'Saved {url_id}.txt')\n"
   ]
  }
 ],
 "metadata": {
  "kernelspec": {
   "display_name": "intern",
   "language": "python",
   "name": "intern"
  },
  "language_info": {
   "codemirror_mode": {
    "name": "ipython",
    "version": 3
   },
   "file_extension": ".py",
   "mimetype": "text/x-python",
   "name": "python",
   "nbconvert_exporter": "python",
   "pygments_lexer": "ipython3",
   "version": "3.9.7"
  }
 },
 "nbformat": 4,
 "nbformat_minor": 5
}
